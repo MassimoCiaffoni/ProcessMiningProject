{
  "nbformat": 4,
  "nbformat_minor": 0,
  "metadata": {
    "colab": {
      "name": "Progetto BDA.ipynb",
      "private_outputs": true,
      "provenance": [],
      "collapsed_sections": [
        "xs9hBrP2Hj84",
        "s3Bj0dBQGTkq",
        "Jw57g_F0Wtd5",
        "uPvSdX0CXCCh",
        "NjCbyBe5Xb4p",
        "SUdEK_a5YCMY",
        "B-A_1jJEYLFg"
      ]
    },
    "kernelspec": {
      "name": "python3",
      "display_name": "Python 3"
    },
    "language_info": {
      "name": "python"
    }
  },
  "cells": [
    {
      "cell_type": "markdown",
      "metadata": {
        "id": "tsUsCSbBGZfG"
      },
      "source": [
        "# **Build Instance Graph (BIG) Algorithm**"
      ]
    },
    {
      "cell_type": "markdown",
      "metadata": {
        "id": "yFdXz_15G7j5"
      },
      "source": [
        "The code has been developed with the pm4py library, a set of functions used for process mining tasks"
      ]
    },
    {
      "cell_type": "code",
      "metadata": {
        "id": "hrzTfqZbAOxm"
      },
      "source": [
        "!pip install -U pm4py"
      ],
      "execution_count": null,
      "outputs": []
    },
    {
      "cell_type": "code",
      "metadata": {
        "id": "9x7Wtb7NDfrs"
      },
      "source": [
        "from google.colab import drive\n",
        "drive.mount('/content/drive')"
      ],
      "execution_count": null,
      "outputs": []
    },
    {
      "cell_type": "markdown",
      "metadata": {
        "id": "xs9hBrP2Hj84"
      },
      "source": [
        "## Find Causal Relationship\n",
        "This function finds the casual relationships from the petri-net of the process model.\n",
        "The inputs are the petri-net, the initial marking, and the final marking.\n",
        "The output is a list of python pairs where the second element directly follows the first element in the petri-net, which translates to a causal relationship."
      ]
    },
    {
      "cell_type": "code",
      "metadata": {
        "id": "IBPIcxgoP8Zj"
      },
      "source": [
        "from pm4py.algo.discovery.footprints import algorithm as footprints_discovery\n",
        "def findCausalRelationships(net, im, fm):\n",
        "  fp_net = footprints_discovery.apply(net, im, fm)\n",
        "  return list(fp_net.get('sequence'))"
      ],
      "execution_count": null,
      "outputs": []
    },
    {
      "cell_type": "markdown",
      "metadata": {
        "id": "s3Bj0dBQGTkq"
      },
      "source": [
        "##Extract Instance Graph\n",
        "\n",
        "This function extracts the instance graph of a trace. Every event of the trace is saved in a list V which represents the set of the nodes of the graph. An event is a pair of an ID (generated incrementally) and the activity label. The edges instead are saved as a pair of events in a list W. The algorithm is based on the definition 18 of the original paper."
      ]
    },
    {
      "cell_type": "code",
      "metadata": {
        "id": "hGLit-Iwe1xz"
      },
      "source": [
        "def ExtractInstanceGraph(trace, cr):\n",
        "    V = []\n",
        "    W = []\n",
        "    id = 1\n",
        "    for event in trace:\n",
        "      V.append((id, event.get(\"concept:name\")))\n",
        "      id += 1\n",
        "    # print(\"IG\")\n",
        "    for i in range(len(V)):\n",
        "      for k in range(i+1,len(V)):\n",
        "        e1 = V[i]\n",
        "        e2 = V[k]\n",
        "        '''if e1[0]==e2[0]:\n",
        "          continue;'''\n",
        "        if (e1[1],e2[1]) in cr:\n",
        "          flag_e1=True\n",
        "          for s in range(i+1, k):\n",
        "            e3 = V[s]\n",
        "            if (e1[1],e3[1]) in cr:\n",
        "              flag_e1 = False\n",
        "              break\n",
        "          flag_e2=True\n",
        "          for s in range(i+1, k):\n",
        "            e3 = V[s]\n",
        "            if (e3[1],e2[1]) in cr:\n",
        "              flag_e2 = False\n",
        "              break\n",
        "          \n",
        "          if flag_e1 or flag_e2:\n",
        "            W.append((e1,e2))\n",
        "    return V, W"
      ],
      "execution_count": null,
      "outputs": []
    },
    {
      "cell_type": "markdown",
      "metadata": {
        "id": "Jw57g_F0Wtd5"
      },
      "source": [
        "##Check Trace Conformance\n",
        "\n",
        "This function checks whether a given trace is conform to a petri-net through alignment based conformance checking. It takes in input the trace, the petri-net, the initial marking, and the final marking.\n",
        "It returns two lists: a list of sequences of deleted activities, and a list of sequences of inserted activities in the trace. \n",
        "Each element of the two lists is a list itself, this sublist contains pairs where the first element is the position of the deleted/inserted activity and the second is the activity label. In sequences of deleted activities the position value is always the same, while for inserted activities it's incremental."
      ]
    },
    {
      "cell_type": "code",
      "metadata": {
        "id": "bSR1aL0ITLLN"
      },
      "source": [
        "from pm4py.algo.conformance.alignments.petri_net import algorithm as alignments\n",
        "\n",
        "\n",
        "def checkTraceConformance(trace, net, initial_marking, final_marking):\n",
        "  \n",
        "  aligned_traces = alignments.apply_trace(trace, net, initial_marking, final_marking)\n",
        "  D = []\n",
        "  I = []\n",
        "  id = 0\n",
        "  temp_d = []\n",
        "  temp_i = []\n",
        "  prev_d = False\n",
        "  curr_d = False\n",
        "  prev_i = False\n",
        "  curr_i = False\n",
        "  del_count = 1\n",
        "  for edge in aligned_traces['alignment']:\n",
        "    id+=1\n",
        "    if edge[1] is None:\n",
        "      id-=1\n",
        "      continue\n",
        "    if edge[0] == '>>':\n",
        "      temp_d.append((id, edge[1]))\n",
        "      curr_d = True\n",
        "      id-=1\n",
        "    if edge[1] == '>>':\n",
        "      temp_i.append((id, edge[0]))\n",
        "      curr_i = True\n",
        "    \n",
        "    if (prev_i and not curr_i):\n",
        "      if len(temp_i) > 0:\n",
        "        I.append(temp_i)\n",
        "      temp_i = []\n",
        "    prev_i = curr_i\n",
        "    curr_i = False\n",
        "    if (prev_d and not curr_d):\n",
        "      if len(temp_d) > 0:\n",
        "        D.append(temp_d)\n",
        "      temp_d = []\n",
        "      \n",
        "    prev_d = curr_d\n",
        "    curr_d = False\n",
        "  if len(temp_i) > 0:\n",
        "      I.append(temp_i)\n",
        "  if len(temp_d) > 0:\n",
        "      D.append(temp_d)\n",
        "  return D, I   \n"
      ],
      "execution_count": null,
      "outputs": []
    },
    {
      "cell_type": "markdown",
      "metadata": {
        "id": "uPvSdX0CXCCh"
      },
      "source": [
        "##View Instance Graph\n",
        "\n",
        "This function takes in input the list of nodes (events) and the list of edges and returns a GraphViz object. The other two inputs are view and the title of the graph. By default view is true so the function will show the graph in the output window.\n"
      ]
    },
    {
      "cell_type": "code",
      "metadata": {
        "id": "dAEgPhJgKaDe"
      },
      "source": [
        "from IPython import display\n",
        "from graphviz import Digraph\n",
        "def viewInstanceGraph(V, W, view=True, title=\"Instance Graph\"):\n",
        "  # Conversion to string indexes\n",
        "  V2 = []\n",
        "  W2 = []\n",
        "  for node in V:\n",
        "    V2.append((str(node[0]), \"{0} = {1}\".format(node[0],node[1])))\n",
        "  for edge in W:\n",
        "    W2.append(((str(edge[0][0]), \"{0} = {1}\".format(edge[0][0],edge[0][1])),(str(edge[1][0]), \"{0} = {1}\".format(edge[1][0],edge[1][1]))))\n",
        "\n",
        "  dot = Digraph(comment=title, node_attr={'shape': 'circle'})\n",
        "  for e in V2:\n",
        "    dot.node(e[0], e[1])\n",
        "  for w in W2:\n",
        "    dot.edge(w[0][0], w[1][0])\n",
        "  if view:\n",
        "    display.display(dot)\n",
        "  return dot\n"
      ],
      "execution_count": null,
      "outputs": []
    },
    {
      "cell_type": "markdown",
      "metadata": {
        "id": "k_KuMuuEXQW4"
      },
      "source": [
        "##Irregular Graph Repairing\n",
        "\n",
        "This is the central function of the BIG Algorithm. Given an irregular graph and the lists of deleted (D) and inserted (I) activities, the algorithm returns a repaired graph. This function repairs first all the deleted activities, and then all the inserted activities, calling the DeletionRepair function and the InsertionRepair function respectively."
      ]
    },
    {
      "cell_type": "code",
      "metadata": {
        "id": "tDGHnve-YSri"
      },
      "source": [
        "def irregularGraphRepairing(V, W, D, I, cr, view=False):\n",
        "  Wi=W\n",
        "  all_deleted_labels = []\n",
        "  for d_element in D:\n",
        "      for element in d_element:\n",
        "        if element[1] not in all_deleted_labels:\n",
        "          all_deleted_labels.append(element[1])\n",
        "  for d_element in D:\n",
        "    Wi=DeletionRepair(Wi, V, d_element,cr, all_deleted_labels)\n",
        "  if view:\n",
        "    print(\"Deletion repaired Instance Graph\")\n",
        "  graph = viewInstanceGraph(V, Wi, view)\n",
        "\n",
        "  all_inserted = []\n",
        "  for i_element in I:\n",
        "    for i in i_element:\n",
        "      if i not in all_inserted:\n",
        "        all_inserted.append(i)   \n",
        "  for i_elements in I:\n",
        "    Wi=InsertionRepair(Wi,V,i_elements,cr, all_inserted)\n",
        "  if view:\n",
        "    print(\"Insertion repaired Instance Graph\")\n",
        "  graph = viewInstanceGraph(V, Wi, view) \n",
        "  return Wi, graph"
      ],
      "execution_count": null,
      "outputs": []
    },
    {
      "cell_type": "markdown",
      "metadata": {
        "id": "NjCbyBe5Xb4p"
      },
      "source": [
        "###Is Reachable\n",
        "\n",
        "This is a boolean function used in both DelationRepair and InsertionRepair functions. It takes as input the instance graph and two events (source and destination) and checks if a path from the source and the destination events exists in the graph."
      ]
    },
    {
      "cell_type": "code",
      "metadata": {
        "id": "FA8tWyk4yTWb"
      },
      "source": [
        "def isReachable(V, W, s, d):\n",
        "  # Mark all the vertices as not visited\n",
        "  visited =[False]*(len(V))\n",
        "  \n",
        "  # Create a queue for BFS\n",
        "  queue=[]\n",
        "  \n",
        "  # Mark the source node as visited and enqueue it\n",
        "  queue.append(s)\n",
        "  visited[s[0] -1] = True\n",
        "\n",
        "  while queue:\n",
        "    \n",
        "    #Dequeue a vertex from queue\n",
        "    j = queue.pop(0)\n",
        "    \n",
        "    # If this adjacent node is the destination node, then return true\n",
        "    if j == d:\n",
        "      return True\n",
        " \n",
        "    # Else, continue to do BFS\n",
        "    for edge in W:\n",
        "      if edge[0] == j:\n",
        "        if visited[edge[1][0] - 1] == False:\n",
        "          queue.append(edge[1])\n",
        "          visited[edge[1][0] - 1] = True\n",
        "  \n",
        "  # If BFS is complete without visited d\n",
        "  return False\n"
      ],
      "execution_count": null,
      "outputs": []
    },
    {
      "cell_type": "markdown",
      "metadata": {
        "id": "dN1Ko5b3Xwer"
      },
      "source": [
        "###Deletion Repair\n",
        "\n",
        "The idea underlying this function consists in connecting activities that occurred before and after the deleted activities, and in removing those edges which should not have been created according to the petri-net. For more information, see sub-chapter 5.1 of the reference paper."
      ]
    },
    {
      "cell_type": "code",
      "metadata": {
        "id": "rOR1BoFUa0Uk"
      },
      "source": [
        "def DeletionRepair(Wi, V, d_elements, cr, all_deleted):\n",
        "  v_len = len(V)\n",
        "  Wr1 = []\n",
        "  Wr2 = []\n",
        "  i = d_elements[0][0]\n",
        "\n",
        "  if i <= v_len:  \n",
        "    for edge in Wi:\n",
        "      if edge[1][0] == i and edge[0][0] < i and (d_elements[-1][1],V[i-1][1]) in cr:\n",
        "        for h in range(edge[0][0], i):\n",
        "          if (V[h-1][1],d_elements[0][1]) in cr:\n",
        "            Wr1.append(edge)\n",
        "            break\n",
        "\n",
        "      if edge[0][0] < i and edge[1][0] > i and (d_elements[-1][1],edge[1][1]) in cr:\n",
        "        if edge[0][1] in all_deleted:\n",
        "          Wr2.append(edge)\n",
        "        elif (edge[0][1],d_elements[0][1])  in cr:\n",
        "          for l in range(i+1, edge[1][0]):\n",
        "            if (V[l-1],edge[1]) in Wi:\n",
        "              Wr2.append(edge)\n",
        "              break\n",
        "\n",
        "  Wi = list(set(Wi) - set(Wr1 + Wr2))\n",
        "  for k in range(i - 1, 0, -1):\n",
        "    for j in range(i, v_len+1):\n",
        "      if (V[k-1][1],d_elements[0][1]) in cr:\n",
        "        if (d_elements[-1][1], V[j-1][1]) in cr:\n",
        "          if not isReachable(V, Wi, V[k-1], V[j-1]):\n",
        "            flag1 = True\n",
        "            for l in range(k + 1, j):\n",
        "              if (V[k-1],V[l-1]) in Wi:\n",
        "                flag1 = False\n",
        "                break\n",
        "            flag2 = True\n",
        "            for m in range(k + 1, i):\n",
        "              if (V[m-1],V[j-1]) in Wi:\n",
        "                flag2 = False\n",
        "                break\n",
        "            if flag1 or flag2:\n",
        "              Wi.append((V[k-1],V[j-1]))\n",
        "  return Wi\n"
      ],
      "execution_count": null,
      "outputs": []
    },
    {
      "cell_type": "markdown",
      "metadata": {
        "id": "SUdEK_a5YCMY"
      },
      "source": [
        "###Insertion Repair\n",
        "\n",
        "This function is aimed at restructuring an irregular graph when a sequence of inserted activities is detected. For more information, see sub-chapter 5.2 of the original paper."
      ]
    },
    {
      "cell_type": "code",
      "metadata": {
        "id": "xLaIGSWly3cQ"
      },
      "source": [
        "def InsertionRepair(W, V, i_elements, cr, all_inserted):\n",
        "  v_len = len(V)\n",
        "  Wr1=[]\n",
        "  Wr2=[]\n",
        "  Wr3=[]\n",
        "  Wr4=[]\n",
        "  Wr5=[]\n",
        "  Wa1=[]\n",
        "  Wa2=[]\n",
        "  Wa3=[]\n",
        "  i= i_elements[0][0]\n",
        "  j=i+len(i_elements)-1\n",
        "  Wi=W.copy()\n",
        "  \n",
        "  for edge in Wi:\n",
        "    if edge[0][0]<i and edge[1][0]>=i and edge[1][0]<=j:\n",
        "      Wr1.append(edge)\n",
        "    if edge[0][0]>=i and edge[0][0]<=j and edge[1][0]>j:\n",
        "      Wr2.append(edge)\n",
        "    if edge[0][0]>=i and edge[0][0]<=j and edge[1][0]>=i and edge[1][0]<=j:\n",
        "      Wr3.append(edge)\n",
        "  Wi= list(set(Wi) - set(Wr1 + Wr2 + Wr3))\n",
        "\n",
        "  for k in range(j+1, v_len+1):     \n",
        "      if V[k-1] not in all_inserted:\n",
        "        if (V[i-2][1],V[k-1][1]) in cr or (V[i-2],V[k-1]) in Wi:\n",
        "          if not isReachable(V, Wi, V[j-1], V[k-1]):\n",
        "            Wi.append((V[j-1],V[k-1]))\n",
        "            Wa1.append((V[j-1],V[k-1]))\n",
        "\n",
        "  # if i < v_len and (V[i-2][1],V[i][1]) not in cr:\n",
        "  if i == v_len or (V[i-2][1],V[i][1]) not in cr:\n",
        "      Wi.append((V[i-2],V[i-1]))\n",
        "      Wa2.append((V[i-2],V[i-1]))\n",
        "  else:\n",
        "    for k in range(i-1,0,-1):\n",
        "        if V[k-1] not in all_inserted:\n",
        "          if j < v_len and ((V[k-1][1],V[j][1]) in cr or (V[k-1],V[j]) in Wi):\n",
        "            if not isReachable(V, Wi, V[k-1],V[i-1]):\n",
        "              Wi.append((V[k-1],V[i-1]))\n",
        "              Wa2.append((V[k-1],V[i-1]))\n",
        "                    \n",
        "  for k in range(i, j):\n",
        "    Wa3.append((V[k-1],V[k]))\n",
        "  if len(Wa3)>0:\n",
        "      Wi=Wi+Wa3\n",
        "\n",
        "  for edge in Wa2:\n",
        "    for edge2 in Wa1:\n",
        "      if edge[1][0]>=i and edge[1][0]<=j:\n",
        "        if edge2[0][0]>=i and edge2[0][0]<=j:\n",
        "          Wr4.append((edge[0],edge2[1]))\n",
        "  Wi= list(set(Wi) - set(Wr4)) \n",
        "  \n",
        "  # if i < v_len and (V[i-2][1],V[i][1]) not in cr\n",
        "  if i == v_len or (V[i-2][1],V[i][1]) not in cr:\n",
        "    for edge in Wi:   \n",
        "      if edge[1][0]>i and edge[0][0]==i-1:\n",
        "        Wr5.append(edge)\n",
        "    Wi = list(set(Wi) - set(Wr5))\n",
        "  return Wi"
      ],
      "execution_count": null,
      "outputs": []
    },
    {
      "cell_type": "markdown",
      "metadata": {
        "id": "B-A_1jJEYLFg"
      },
      "source": [
        "##Save GFile\n",
        "\n",
        "The SaveGFile function saves the repaired graph generated from the BIG algorithm in the .g format with extra information relatively the execution time of the algorithm and the eventual repaired events (deleted or inserted).\n",
        "The saveGfinal function instead saves all the repaired graph generated in a single .g format file."
      ]
    },
    {
      "cell_type": "code",
      "metadata": {
        "id": "MfNJ8VkUUVq5"
      },
      "source": [
        "def saveGFile(V, W, path, D, I, time, sort_labels):\n",
        "  with open(path, 'w') as f:\n",
        "    f.write(\"# Execution Time: {0:.3f} s\\n\".format(time))\n",
        "    f.write(\"# Deleted Activities: {0}\\n\".format(D))\n",
        "    f.write(\"# Inserted Activities: {0}\\n\".format(I))\n",
        "    for n in V:\n",
        "      f.write(\"v {0} {1}\\n\".format(n[0], n[1]))\n",
        "    f.write(\"\\n\")\n",
        "    if (sort_labels):\n",
        "      W.sort()\n",
        "    for e in W:\n",
        "      f.write(\"e {0} {1} {2}__{3}\\n\".format(e[0][0], e[1][0], e[0][1], e[1][1]))\n"
      ],
      "execution_count": null,
      "outputs": []
    },
    {
      "cell_type": "code",
      "metadata": {
        "id": "ak82yrcJMnaW"
      },
      "source": [
        "def saveGfinal(V, W, path, sort_labels):\n",
        "  with open(path, 'a') as f:\n",
        "    f.write(\"XP \\n\")\n",
        "    for n in V:\n",
        "      f.write(\"v {0} {1}\\n\".format(n[0], n[1]))\n",
        "    if (sort_labels):\n",
        "      W.sort()\n",
        "    for e in W:\n",
        "      f.write(\"e {0} {1} {2}__{3}\\n\".format(e[0][0], e[1][0], e[0][1], e[1][1]))\n",
        "    f.write(\"\\n\")\n",
        "    f.close()\n",
        "    \n"
      ],
      "execution_count": null,
      "outputs": []
    },
    {
      "cell_type": "markdown",
      "metadata": {
        "id": "sE4hKAsyYWUo"
      },
      "source": [
        "##Main function\n",
        "\n",
        "This block puts together the previous functions to form the complete BIG algorithm.\n",
        "It takes in input, the path of the petri-net, the path of the xes log, the starting trace (not the trace id but the position in the log), the ending trace, view (to enable to visualize the instance graphs in the output window), and sort_labels(to sort the labels of the edges in the .g files). It will also save the graphviz and the .g files for each correct/repaired graph and one for all the instance graph.\n"
      ]
    },
    {
      "cell_type": "code",
      "metadata": {
        "id": "nBd2cLSYNq2m"
      },
      "source": [
        "from pm4py.streaming.importer.xes import importer as xes_importer\n",
        "import time\n",
        "from pm4py.objects.petri_net.importer import importer as pnml_importer\n",
        "\n",
        "import graphviz\n",
        "\n",
        "from pm4py.visualization.petri_net import visualizer as pn_visualizer\n",
        "\n",
        "\n",
        "log_file = \"/content/drive/MyDrive/DWH/BIG Datasets/BPI2017Denied/BPI2017Denied.xes\"\n",
        "net_file = \"/content/drive/MyDrive/DWH/BIG Datasets/BPI2017Denied/BPI2017Denied_petriNet.pnml\"\n",
        "log_file2 = \"/content/drive/MyDrive/DWH/BIG Datasets/testBank2000NoRandomNoise/testBank2000NoRandomNoise.xes\"\n",
        "net_file2 = \"/content/drive/MyDrive/DWH/BIG Datasets/testBank2000NoRandomNoise/testBank2000NoRandomNoise_petriNet.pnml\"\n",
        "log_file3 = \"/content/drive/MyDrive/DWH/BIG Datasets/Hospital_dcc/Hospital_dcc.xes\"\n",
        "net_file3 = \"/content/drive/MyDrive/DWH/BIG Datasets/Hospital_dcc/Hospital_dcc_petriNet.pnml\"\n",
        "log_file4 = \"/content/drive/MyDrive/DWH/BIG Datasets/bpi2012decompositionExpr/bpi2012decompositionExpr.xes\"\n",
        "net_file4 = \"/content/drive/MyDrive/DWH/BIG Datasets/bpi2012decompositionExpr/bpi2012decompositionExpr_petriNet.pnml\"\n",
        "log_file5 = \"/content/drive/MyDrive/DWH/BIG Datasets/testBank2000SCCUpdatedCopia/testBank2000SCCUpdatedCopia.xes\"\n",
        "net_file5 = \"/content/drive/MyDrive/DWH/BIG Datasets/testBank2000SCCUpdatedCopia/testBank2000SCCUpdatedCopia_petriNet.pnml\"\n",
        "log_file6 = \"/content/drive/MyDrive/DWH/BIG Datasets/toyex.xes\"\n",
        "net_file6 = \"/content/drive/MyDrive/DWH/BIG Datasets/toyex_petriNet.pnml\"\n",
        "\n",
        "def BIG(net_path, log_path, tr_start=0, tr_end=None, view=False, sort_labels=False):\n",
        "\n",
        "  splits = log_path.split('/')\n",
        "  name = splits[-1].split(\".\")[0]\n",
        "\n",
        "  streaming_ev_object = xes_importer.apply(log_path, variant=xes_importer.Variants.XES_TRACE_STREAM)\n",
        "  net, initial_marking, final_marking = pnml_importer.apply(net_path)\n",
        "\n",
        "  gviz = pn_visualizer.apply(net, initial_marking, final_marking)\n",
        "  display.display(gviz)\n",
        "  gviz.render(filename=\"petri\")\n",
        "\n",
        "  start_time_total = time.time()\n",
        "  cr = findCausalRelationships(net, initial_marking, final_marking)\n",
        "  if view:\n",
        "    print(cr)\n",
        "\n",
        "  count = 0\n",
        "  repairs = 0\n",
        "  for trace in streaming_ev_object:\n",
        "    count += 1\n",
        "    if count < tr_start:\n",
        "      continue\n",
        "    elif tr_end is not None and count > tr_end:\n",
        "      break\n",
        "\n",
        "    num = trace.attributes.get('concept:name')\n",
        "    trace_start_time = time.time()\n",
        "    V, W = ExtractInstanceGraph(trace,cr)\n",
        "    if view:\n",
        "      print(\"\\n\\n------------------------------------\\nUnrepaired Instance Graph\")\n",
        "      print(V)\n",
        "    graph = viewInstanceGraph(V, W, view)\n",
        "    D, I = checkTraceConformance(trace,net,initial_marking, final_marking)\n",
        "    print(\"Count {0}, Len {1}, Trace name: {2}\".format(count, len(V), num))\n",
        "    if view:\n",
        "      print(D)\n",
        "      print(I)\n",
        "    if len(D)+len(I)>0:\n",
        "      repairs += 1\n",
        "      W, graph = irregularGraphRepairing(V,W,D,I,cr, view)\n",
        "    \n",
        "    graph.save(\"{0}_instance_graphs/gviz_{1}.gv\".format(name, num))\n",
        "\n",
        "    saveGFile(V, W, \"{0}_instance_graphs/IG_{1}.g\".format(name, num), D, I, time.time()-trace_start_time, sort_labels)\n",
        "    saveGfinal(V, W, \"{0}_instance_graphs.g\".format(name), sort_labels)\n",
        "        \n",
        "  elapsed = time.time() - start_time_total\n",
        "  with open(\"{0}_instance_graphs/{1}.txt\".format(name, name), 'w') as f:\n",
        "    f.write(\"Execution Time: {0:.3f} s\\n\".format(elapsed))\n",
        "    f.write(\"Number of traces: {0}\\n\".format(count))\n",
        "    f.write(\"Number of repairs: {0}\\n\".format(repairs))\n",
        "\n",
        "BIG(net_file5, log_file5)\n"
      ],
      "execution_count": null,
      "outputs": []
    },
    {
      "cell_type": "code",
      "metadata": {
        "id": "2f4c1i9N0OoT"
      },
      "source": [
        " !zip -r /content/BPI2017Denied_instance_graphs.zip /content/BPI2017Denied_instance_graphs"
      ],
      "execution_count": null,
      "outputs": []
    },
    {
      "cell_type": "code",
      "metadata": {
        "id": "FxLsN0d4Y74R"
      },
      "source": [
        " !zip -r /content/testBank2000NoRandomNoise.zip /content/testBank2000NoRandomNoise_instance_graphs"
      ],
      "execution_count": null,
      "outputs": []
    },
    {
      "cell_type": "code",
      "metadata": {
        "id": "wp2Q-y-qgt8Y"
      },
      "source": [
        "!zip -r /content/bpi2012decompositionExpr.zip /content/bpi2012decompositionExpr_instance_graphs"
      ],
      "execution_count": null,
      "outputs": []
    },
    {
      "cell_type": "code",
      "metadata": {
        "id": "4shXiqefi8ou"
      },
      "source": [
        "!zip -r /content/testBank2000SCCUpdated.zip /content/testBank2000SCCUpdatedCopia_instance_graphs"
      ],
      "execution_count": null,
      "outputs": []
    }
  ]
}